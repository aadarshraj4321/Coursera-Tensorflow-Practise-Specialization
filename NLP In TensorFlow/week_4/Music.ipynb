{
 "cells": [
  {
   "cell_type": "code",
   "execution_count": 55,
   "metadata": {},
   "outputs": [],
   "source": [
    "import tensorflow as tf\n",
    "import numpy as np\n",
    "from tensorflow import keras\n",
    "from keras.preprocessing.text import Tokenizer\n",
    "from keras.preprocessing.sequence import pad_sequences"
   ]
  },
  {
   "cell_type": "code",
   "execution_count": 56,
   "metadata": {},
   "outputs": [
    {
     "name": "stdout",
     "output_type": "stream",
     "text": [
      "750\n"
     ]
    }
   ],
   "source": [
    "tokenizer = Tokenizer()\n",
    "data = open(\"music_2.txt\",\"r\").read()\n",
    "\n",
    "corpus = data.lower().split(\"\\n\")\n",
    "\n",
    "tokenizer.fit_on_texts(corpus)\n",
    "total_words = len(tokenizer.word_index) + 1\n",
    "print(total_words)"
   ]
  },
  {
   "cell_type": "code",
   "execution_count": 57,
   "metadata": {},
   "outputs": [],
   "source": [
    "input_sequences = []\n",
    "for line in corpus:\n",
    "    token_list = tokenizer.texts_to_sequences([line])[0]\n",
    "    for i in range(1, len(token_list)):\n",
    "        n_gram_sequence = token_list[:i+1]\n",
    "        input_sequences.append(n_gram_sequence)\n",
    "    \n",
    "# pad sequences\n",
    "max_sequences_len = max([len(x) for x in input_sequences])\n",
    "input_sequences = np.array(pad_sequences(input_sequences, maxlen = max_sequences_len, padding = \"pre\"))\n",
    "\n",
    "# create predictors and label\n",
    "xs, labels = input_sequences[:, :-1], input_sequences[:, -1]\n",
    "ys = keras.utils.to_categorical(labels, num_classes=total_words)"
   ]
  },
  {
   "cell_type": "code",
   "execution_count": 58,
   "metadata": {},
   "outputs": [
    {
     "name": "stdout",
     "output_type": "stream",
     "text": [
      "259\n",
      "664\n",
      "129\n"
     ]
    },
    {
     "ename": "KeyError",
     "evalue": "'of'",
     "output_type": "error",
     "traceback": [
      "\u001b[1;31m---------------------------------------------------------------------------\u001b[0m",
      "\u001b[1;31mKeyError\u001b[0m                                  Traceback (most recent call last)",
      "\u001b[1;32m<ipython-input-58-5e7d7e75da02>\u001b[0m in \u001b[0;36m<module>\u001b[1;34m\u001b[0m\n\u001b[0;32m      2\u001b[0m \u001b[0mprint\u001b[0m\u001b[1;33m(\u001b[0m\u001b[0mtokenizer\u001b[0m\u001b[1;33m.\u001b[0m\u001b[0mword_index\u001b[0m\u001b[1;33m[\u001b[0m\u001b[1;34m\"the\"\u001b[0m\u001b[1;33m]\u001b[0m\u001b[1;33m)\u001b[0m\u001b[1;33m\u001b[0m\u001b[1;33m\u001b[0m\u001b[0m\n\u001b[0;32m      3\u001b[0m \u001b[0mprint\u001b[0m\u001b[1;33m(\u001b[0m\u001b[0mtokenizer\u001b[0m\u001b[1;33m.\u001b[0m\u001b[0mword_index\u001b[0m\u001b[1;33m[\u001b[0m\u001b[1;34m\"town\"\u001b[0m\u001b[1;33m]\u001b[0m\u001b[1;33m)\u001b[0m\u001b[1;33m\u001b[0m\u001b[1;33m\u001b[0m\u001b[0m\n\u001b[1;32m----> 4\u001b[1;33m \u001b[0mprint\u001b[0m\u001b[1;33m(\u001b[0m\u001b[0mtokenizer\u001b[0m\u001b[1;33m.\u001b[0m\u001b[0mword_index\u001b[0m\u001b[1;33m[\u001b[0m\u001b[1;34m\"of\"\u001b[0m\u001b[1;33m]\u001b[0m\u001b[1;33m)\u001b[0m\u001b[1;33m\u001b[0m\u001b[1;33m\u001b[0m\u001b[0m\n\u001b[0m\u001b[0;32m      5\u001b[0m \u001b[0mprint\u001b[0m\u001b[1;33m(\u001b[0m\u001b[0mtokenizer\u001b[0m\u001b[1;33m.\u001b[0m\u001b[0mword_index\u001b[0m\u001b[1;33m[\u001b[0m\u001b[1;34m\"athy\"\u001b[0m\u001b[1;33m]\u001b[0m\u001b[1;33m)\u001b[0m\u001b[1;33m\u001b[0m\u001b[1;33m\u001b[0m\u001b[0m\n\u001b[0;32m      6\u001b[0m \u001b[0mprint\u001b[0m\u001b[1;33m(\u001b[0m\u001b[0mtokenizer\u001b[0m\u001b[1;33m.\u001b[0m\u001b[0mword_index\u001b[0m\u001b[1;33m[\u001b[0m\u001b[1;34m\"one\"\u001b[0m\u001b[1;33m]\u001b[0m\u001b[1;33m)\u001b[0m\u001b[1;33m\u001b[0m\u001b[1;33m\u001b[0m\u001b[0m\n",
      "\u001b[1;31mKeyError\u001b[0m: 'of'"
     ]
    }
   ],
   "source": [
    "print(tokenizer.word_index[\"in\"])\n",
    "print(tokenizer.word_index[\"the\"])\n",
    "print(tokenizer.word_index[\"town\"])\n",
    "print(tokenizer.word_index[\"of\"])\n",
    "print(tokenizer.word_index[\"athy\"])\n",
    "print(tokenizer.word_index[\"one\"])\n",
    "print(tokenizer.word_index[\"jeremy\"])\n",
    "print(tokenizer.word_index[\"lanigan\"])"
   ]
  },
  {
   "cell_type": "code",
   "execution_count": 59,
   "metadata": {},
   "outputs": [
    {
     "name": "stdout",
     "output_type": "stream",
     "text": [
      "[  0   0   0   0  29 350 351   8   5   6  63]\n",
      "[0. 0. 0. 0. 0. 0. 0. 0. 0. 0. 0. 0. 0. 0. 0. 0. 0. 0. 0. 0. 0. 0. 0. 0.\n",
      " 0. 0. 0. 0. 0. 0. 0. 0. 0. 0. 0. 0. 0. 0. 0. 0. 0. 0. 0. 0. 0. 0. 0. 0.\n",
      " 0. 0. 0. 0. 0. 0. 1. 0. 0. 0. 0. 0. 0. 0. 0. 0. 0. 0. 0. 0. 0. 0. 0. 0.\n",
      " 0. 0. 0. 0. 0. 0. 0. 0. 0. 0. 0. 0. 0. 0. 0. 0. 0. 0. 0. 0. 0. 0. 0. 0.\n",
      " 0. 0. 0. 0. 0. 0. 0. 0. 0. 0. 0. 0. 0. 0. 0. 0. 0. 0. 0. 0. 0. 0. 0. 0.\n",
      " 0. 0. 0. 0. 0. 0. 0. 0. 0. 0. 0. 0. 0. 0. 0. 0. 0. 0. 0. 0. 0. 0. 0. 0.\n",
      " 0. 0. 0. 0. 0. 0. 0. 0. 0. 0. 0. 0. 0. 0. 0. 0. 0. 0. 0. 0. 0. 0. 0. 0.\n",
      " 0. 0. 0. 0. 0. 0. 0. 0. 0. 0. 0. 0. 0. 0. 0. 0. 0. 0. 0. 0. 0. 0. 0. 0.\n",
      " 0. 0. 0. 0. 0. 0. 0. 0. 0. 0. 0. 0. 0. 0. 0. 0. 0. 0. 0. 0. 0. 0. 0. 0.\n",
      " 0. 0. 0. 0. 0. 0. 0. 0. 0. 0. 0. 0. 0. 0. 0. 0. 0. 0. 0. 0. 0. 0. 0. 0.\n",
      " 0. 0. 0. 0. 0. 0. 0. 0. 0. 0. 0. 0. 0. 0. 0. 0. 0. 0. 0. 0. 0. 0. 0. 0.\n",
      " 0. 0. 0. 0. 0. 0. 0. 0. 0. 0. 0. 0. 0. 0. 0. 0. 0. 0. 0. 0. 0. 0. 0. 0.\n",
      " 0. 0. 0. 0. 0. 0. 0. 0. 0. 0. 0. 0. 0. 0. 0. 0. 0. 0. 0. 0. 0. 0. 0. 0.\n",
      " 0. 0. 0. 0. 0. 0. 0. 0. 0. 0. 0. 0. 0. 0. 0. 0. 0. 0. 0. 0. 0. 0. 0. 0.\n",
      " 0. 0. 0. 0. 0. 0. 0. 0. 0. 0. 0. 0. 0. 0. 0. 0. 0. 0. 0. 0. 0. 0. 0. 0.\n",
      " 0. 0. 0. 0. 0. 0. 0. 0. 0. 0. 0. 0. 0. 0. 0. 0. 0. 0. 0. 0. 0. 0. 0. 0.\n",
      " 0. 0. 0. 0. 0. 0. 0. 0. 0. 0. 0. 0. 0. 0. 0. 0. 0. 0. 0. 0. 0. 0. 0. 0.\n",
      " 0. 0. 0. 0. 0. 0. 0. 0. 0. 0. 0. 0. 0. 0. 0. 0. 0. 0. 0. 0. 0. 0. 0. 0.\n",
      " 0. 0. 0. 0. 0. 0. 0. 0. 0. 0. 0. 0. 0. 0. 0. 0. 0. 0. 0. 0. 0. 0. 0. 0.\n",
      " 0. 0. 0. 0. 0. 0. 0. 0. 0. 0. 0. 0. 0. 0. 0. 0. 0. 0. 0. 0. 0. 0. 0. 0.\n",
      " 0. 0. 0. 0. 0. 0. 0. 0. 0. 0. 0. 0. 0. 0. 0. 0. 0. 0. 0. 0. 0. 0. 0. 0.\n",
      " 0. 0. 0. 0. 0. 0. 0. 0. 0. 0. 0. 0. 0. 0. 0. 0. 0. 0. 0. 0. 0. 0. 0. 0.\n",
      " 0. 0. 0. 0. 0. 0. 0. 0. 0. 0. 0. 0. 0. 0. 0. 0. 0. 0. 0. 0. 0. 0. 0. 0.\n",
      " 0. 0. 0. 0. 0. 0. 0. 0. 0. 0. 0. 0. 0. 0. 0. 0. 0. 0. 0. 0. 0. 0. 0. 0.\n",
      " 0. 0. 0. 0. 0. 0. 0. 0. 0. 0. 0. 0. 0. 0. 0. 0. 0. 0. 0. 0. 0. 0. 0. 0.\n",
      " 0. 0. 0. 0. 0. 0. 0. 0. 0. 0. 0. 0. 0. 0. 0. 0. 0. 0. 0. 0. 0. 0. 0. 0.\n",
      " 0. 0. 0. 0. 0. 0. 0. 0. 0. 0. 0. 0. 0. 0. 0. 0. 0. 0. 0. 0. 0. 0. 0. 0.\n",
      " 0. 0. 0. 0. 0. 0. 0. 0. 0. 0. 0. 0. 0. 0. 0. 0. 0. 0. 0. 0. 0. 0. 0. 0.\n",
      " 0. 0. 0. 0. 0. 0. 0. 0. 0. 0. 0. 0. 0. 0. 0. 0. 0. 0. 0. 0. 0. 0. 0. 0.\n",
      " 0. 0. 0. 0. 0. 0. 0. 0. 0. 0. 0. 0. 0. 0. 0. 0. 0. 0. 0. 0. 0. 0. 0. 0.\n",
      " 0. 0. 0. 0. 0. 0. 0. 0. 0. 0. 0. 0. 0. 0. 0. 0. 0. 0. 0. 0. 0. 0. 0. 0.\n",
      " 0. 0. 0. 0. 0. 0.]\n"
     ]
    }
   ],
   "source": [
    "print(xs[6])\n",
    "print(ys[6])"
   ]
  },
  {
   "cell_type": "code",
   "execution_count": 60,
   "metadata": {},
   "outputs": [
    {
     "name": "stdout",
     "output_type": "stream",
     "text": [
      "[  0   0   0   0   0  29 350 351   8   5   6]\n",
      "[0. 0. 0. 0. 0. 0. 0. 0. 0. 0. 0. 0. 0. 0. 0. 0. 0. 0. 0. 0. 0. 0. 0. 0.\n",
      " 0. 0. 0. 0. 0. 0. 0. 0. 0. 0. 0. 0. 0. 0. 0. 0. 0. 0. 0. 0. 0. 0. 0. 0.\n",
      " 0. 0. 0. 0. 0. 0. 0. 0. 0. 0. 0. 0. 0. 0. 0. 1. 0. 0. 0. 0. 0. 0. 0. 0.\n",
      " 0. 0. 0. 0. 0. 0. 0. 0. 0. 0. 0. 0. 0. 0. 0. 0. 0. 0. 0. 0. 0. 0. 0. 0.\n",
      " 0. 0. 0. 0. 0. 0. 0. 0. 0. 0. 0. 0. 0. 0. 0. 0. 0. 0. 0. 0. 0. 0. 0. 0.\n",
      " 0. 0. 0. 0. 0. 0. 0. 0. 0. 0. 0. 0. 0. 0. 0. 0. 0. 0. 0. 0. 0. 0. 0. 0.\n",
      " 0. 0. 0. 0. 0. 0. 0. 0. 0. 0. 0. 0. 0. 0. 0. 0. 0. 0. 0. 0. 0. 0. 0. 0.\n",
      " 0. 0. 0. 0. 0. 0. 0. 0. 0. 0. 0. 0. 0. 0. 0. 0. 0. 0. 0. 0. 0. 0. 0. 0.\n",
      " 0. 0. 0. 0. 0. 0. 0. 0. 0. 0. 0. 0. 0. 0. 0. 0. 0. 0. 0. 0. 0. 0. 0. 0.\n",
      " 0. 0. 0. 0. 0. 0. 0. 0. 0. 0. 0. 0. 0. 0. 0. 0. 0. 0. 0. 0. 0. 0. 0. 0.\n",
      " 0. 0. 0. 0. 0. 0. 0. 0. 0. 0. 0. 0. 0. 0. 0. 0. 0. 0. 0. 0. 0. 0. 0. 0.\n",
      " 0. 0. 0. 0. 0. 0. 0. 0. 0. 0. 0. 0. 0. 0. 0. 0. 0. 0. 0. 0. 0. 0. 0. 0.\n",
      " 0. 0. 0. 0. 0. 0. 0. 0. 0. 0. 0. 0. 0. 0. 0. 0. 0. 0. 0. 0. 0. 0. 0. 0.\n",
      " 0. 0. 0. 0. 0. 0. 0. 0. 0. 0. 0. 0. 0. 0. 0. 0. 0. 0. 0. 0. 0. 0. 0. 0.\n",
      " 0. 0. 0. 0. 0. 0. 0. 0. 0. 0. 0. 0. 0. 0. 0. 0. 0. 0. 0. 0. 0. 0. 0. 0.\n",
      " 0. 0. 0. 0. 0. 0. 0. 0. 0. 0. 0. 0. 0. 0. 0. 0. 0. 0. 0. 0. 0. 0. 0. 0.\n",
      " 0. 0. 0. 0. 0. 0. 0. 0. 0. 0. 0. 0. 0. 0. 0. 0. 0. 0. 0. 0. 0. 0. 0. 0.\n",
      " 0. 0. 0. 0. 0. 0. 0. 0. 0. 0. 0. 0. 0. 0. 0. 0. 0. 0. 0. 0. 0. 0. 0. 0.\n",
      " 0. 0. 0. 0. 0. 0. 0. 0. 0. 0. 0. 0. 0. 0. 0. 0. 0. 0. 0. 0. 0. 0. 0. 0.\n",
      " 0. 0. 0. 0. 0. 0. 0. 0. 0. 0. 0. 0. 0. 0. 0. 0. 0. 0. 0. 0. 0. 0. 0. 0.\n",
      " 0. 0. 0. 0. 0. 0. 0. 0. 0. 0. 0. 0. 0. 0. 0. 0. 0. 0. 0. 0. 0. 0. 0. 0.\n",
      " 0. 0. 0. 0. 0. 0. 0. 0. 0. 0. 0. 0. 0. 0. 0. 0. 0. 0. 0. 0. 0. 0. 0. 0.\n",
      " 0. 0. 0. 0. 0. 0. 0. 0. 0. 0. 0. 0. 0. 0. 0. 0. 0. 0. 0. 0. 0. 0. 0. 0.\n",
      " 0. 0. 0. 0. 0. 0. 0. 0. 0. 0. 0. 0. 0. 0. 0. 0. 0. 0. 0. 0. 0. 0. 0. 0.\n",
      " 0. 0. 0. 0. 0. 0. 0. 0. 0. 0. 0. 0. 0. 0. 0. 0. 0. 0. 0. 0. 0. 0. 0. 0.\n",
      " 0. 0. 0. 0. 0. 0. 0. 0. 0. 0. 0. 0. 0. 0. 0. 0. 0. 0. 0. 0. 0. 0. 0. 0.\n",
      " 0. 0. 0. 0. 0. 0. 0. 0. 0. 0. 0. 0. 0. 0. 0. 0. 0. 0. 0. 0. 0. 0. 0. 0.\n",
      " 0. 0. 0. 0. 0. 0. 0. 0. 0. 0. 0. 0. 0. 0. 0. 0. 0. 0. 0. 0. 0. 0. 0. 0.\n",
      " 0. 0. 0. 0. 0. 0. 0. 0. 0. 0. 0. 0. 0. 0. 0. 0. 0. 0. 0. 0. 0. 0. 0. 0.\n",
      " 0. 0. 0. 0. 0. 0. 0. 0. 0. 0. 0. 0. 0. 0. 0. 0. 0. 0. 0. 0. 0. 0. 0. 0.\n",
      " 0. 0. 0. 0. 0. 0. 0. 0. 0. 0. 0. 0. 0. 0. 0. 0. 0. 0. 0. 0. 0. 0. 0. 0.\n",
      " 0. 0. 0. 0. 0. 0.]\n"
     ]
    }
   ],
   "source": [
    "print(xs[5])\n",
    "print(ys[5])"
   ]
  },
  {
   "cell_type": "code",
   "execution_count": 61,
   "metadata": {},
   "outputs": [
    {
     "name": "stdout",
     "output_type": "stream",
     "text": [
      "{'main': 1, 'na': 2, 'ki': 3, 'ke': 4, 'dil': 5, 'mein': 6, 'hai': 7, 'ho': 8, 'se': 9, 'tere': 10, 'bhi': 11, 'tu': 12, 'gaya': 13, 'mere': 14, 'teri': 15, 'hi': 16, 'hain': 17, 'o': 18, 'kariye': 19, 'meri': 20, 'kya': 21, 'phir': 22, 'kalle': 23, 'tujhe': 24, 'aa': 25, 'mera': 26, 'gayi': 27, 'tera': 28, 'tum': 29, 'jaane': 30, 'ko': 31, 'kuch': 32, 'naal': 33, 'oye': 34, 'tumko': 35, 'ban': 36, 'karke': 37, 'ye': 38, 'maza': 39, 'ka': 40, 'toh': 41, 'jab': 42, 'sohniye': 43, 'hoon': 44, 'jo': 45, 'jaise': 46, 'tod': 47, 'do': 48, 'ne': 49, 'kar': 50, 'jaaunga': 51, 'vi': 52, 'kithe': 53, 'aur': 54, 'woh': 55, 'khabar': 56, 'iss': 57, 'nahi': 58, 'hum': 59, 'saanu': 60, 'diya': 61, 'jaaye': 62, 'kisi': 63, 'mujhe': 64, 'aaj': 65, 'to': 66, 'baar': 67, 'har': 68, 'galiyon': 69, 'nazar': 70, 'bhar': 71, 'ab': 72, 'pe': 73, 'chuta': 74, 'deh': 75, 'jaayi': 76, 'ja': 77, 'yeh': 78, 'silky': 79, 'bana': 80, 'pyar': 81, 'si': 82, 'thi': 83, 'tujhpe': 84, 'naâ€¦': 85, 'tujhko': 86, 'vich': 87, 'tha': 88, 'kehndi': 89, 'kho': 90, 'chori': 91, 'sadda': 92, 'saare': 93, 'chahungaâ€¦': 94, 'sun': 95, 'bas': 96, 'haaye': 97, 'e': 98, 'baat': 99, 'aap': 100, 'mainu': 101, 'dekha': 102, 'ek': 103, 'aise': 104, 'karogi': 105, 'mujhse': 106, 'aake': 107, 'raat': 108, 'kahan': 109, 'liye': 110, 'tukda': 111, 'hota': 112, 'gham': 113, 'par': 114, 'haq': 115, 'lunga': 116, 'aaja': 117, 'doob': 118, 'jaoon': 119, 'aankhon': 120, 'ocean': 121, 'slow': 122, 'motion': 123, 'din': 124, 'maine': 125, 'lamberghini': 126, 'chalayi': 127, 'model': 128, 'town': 129, 'maare': 130, 'gehdi': 131, 'da': 132, 'aisa': 133, 'kal': 134, 'kariyeâ€¦': 135, 'kaun': 136, 'saahil': 137, 'saathiâ€¦': 138, 'binaâ€¦': 139, 'soya': 140, 'mar': 141, 'humsafar': 142, 'itni': 143, 'saansein': 144, 'rahunga': 145, 'wahin': 146, 'umrr': 147, 'beqarari': 148, 'kaisi': 149, 'aisi': 150, 'i': 151, 'wanna': 152, 'say': 153, 'you': 154, 'rehna': 155, 'ni': 156, 'oh': 157, 'koyi': 158, 'baad': 159, 'dard': 160, 'khada': 161, 'kaise': 162, 'raah': 163, 'aana': 164, 'tak': 165, 'ishq': 166, 'nu': 167, 'jahaan': 168, 'sab': 169, 'koi': 170, 'wali': 171, 'ishqe': 172, 'maan': 173, 'gallan': 174, 'mujhko': 175, 'naino': 176, 'madam': 177, 'chaal': 178, 'baal': 179, 'is': 180, 'zyada': 181, 'kahoon': 182, 'nashe': 183, 'talli': 184, 'wedding': 185, 'rahe': 186, 'saari': 187, 'daaru': 188, 'chalti': 189, 'dhoondhe': 190, 'alag': 191, 'chahunga': 192, 'chahat': 193, 'jaunga': 194, 'pagal': 195, 'baatein': 196, 'aagaya': 197, 'aankh': 198, 'yoon': 199, 'rakh': 200, 'le': 201, 'pyaar': 202, 'aapko': 203, 'sambhale': 204, 'sambhalta': 205, 'karega': 206, 'karti': 207, 'tujhse': 208, 'ta': 209, 'dafaa': 210, 'hasti': 211, 'wafayein': 212, 'yaad': 213, 'pher': 214, 'nigaahein': 215, 'kadar': 216, 'lagti': 217, 'gale': 218, 'roz': 219, 'jiske': 220, 'kaash': 221, 'poochha': 222, 'ujda': 223, 'bahut': 224, 'aayi': 225, 'yaadein': 226, 'magar': 227, 'guzarti': 228, 'humein': 229, 'raahein': 230, 'beshaq': 231, 'pichhe': 232, 'aaunga': 233, 'khuda': 234, 'sonh': 235, 'kasam': 236, 'yehi': 237, 'khaunga': 238, 'keetey': 239, 'waadeya': 240, 'umraan': 241, 'nibhaunga': 242, 'apna': 243, 'banaunga': 244, 'lakhaan': 245, 'ton': 246, 'juda': 247, 'á¸³haatir': 248, 'manzil': 249, 'musaafir': 250, 'hoya': 251, 'lage': 252, 'kaha': 253, 'ring': 254, 'leke': 255, 'badhe': 256, 'karli': 257, 'have': 258, 'in': 259, 'honge': 260, 'hamari': 261, 'setting': 262, 'me': 263, 'yuh': 264, 'sataa': 265, 'jhalla': 266, 'mithi': 267, 'dooro': 268, 'takki': 269, 'pee': 270, 'yaaron': 271, 'x2': 272, 'kol': 273, 'hoke': 274, 'yaar': 275, 'chhupayega': 276, 'poora': 277, 'door': 278, 'allah': 279, 'kaabil': 280, 'toofan': 281, 'kashti': 282, 'bechainiyan': 283, 'samet': 284, 'saka': 285, 'raahi': 286, 'dikha': 287, 'haaâ€¦': 288, 'dhuaan': 289, 'dhuaanâ€¦': 290, 'aankhein': 291, 'kisey': 292, 'maano': 293, 'nindiya': 294, 'piroya': 295, 'pal': 296, 'chalte': 297, 'sa': 298, 'ijazat': 299, 'lekar': 300, 'dar': 301, 'zaalima': 302, 'kamli': 303, 'rog': 304, 'sayana': 305, 'jidhar': 306, 'aaun': 307, 'hosh': 308, 'kabhi': 309, 'baahon': 310, 'zindagi': 311, 'tune': 312, 'tujhi': 313, 'rashk': 314, 'qamar': 315, 'pehli': 316, 'milaayi': 317, 'gir': 318, 'aisee': 319, 'husan': 320, 'ay': 321, 'laga': 322, 'jawaani': 323, 'daikh': 324, 'us': 325, 'he': 326, 'fana': 327, 'haathon': 328, 'hazaron': 329, 'dafa': 330, 'baaki': 331, 'mmm': 332, 'hmm': 333, 'haa': 334, 'chup': 335, 'duniya': 336, 'khud': 337, 'hug': 338, 'boyfriend': 339, 'girlfriend': 340, '2': 341, 'times': 342, 'ruk': 343, 'te': 344, 'gal': 345, 'sunn': 346, 'neeli': 347, 'karda': 348, 'kiven': 349, 'de': 350, 'rahi': 351, 'jagah': 352, 'lekin': 353, 'chahega': 354, 'tarah': 355, 'kusoor': 356, 'utar': 357, 'mud': 358, 'tumne': 359, 'jaata': 360, 'chhod': 361, 'sath': 362, 'dhale': 363, 'rishta': 364, 'jod': 365, 'aane': 366, 'zamaane': 367, 'karein': 368, 'dekhe': 369, 'jaag': 370, 'mile': 371, 'iraade': 372, 'laana': 373, 'dehleez': 374, 'hokar': 375, 'bahaarein': 376, 'yahaan': 377, 'dhoop': 378, 'saavan': 379, 'hawaayein': 380, 'barasti': 381, 'pucho': 382, 'bina': 383, 'jiye': 384, 'jaana': 385, 'saath': 386, 'chhodunga': 387, 'chheen': 388, 'ya': 389, 'maang': 390, 'laaunga': 391, 'taqdeeran': 392, 'likhwaunga': 393, 'vaari': 394, 'yehâ€¦': 395, 'hoyi': 396, 'rab': 397, 'bhula': 398, 'betha': 399, 'qaafir': 400, 'takraunga': 401, 'khoke': 402, 'paaunga': 403, 'banke': 404, 'dhadkaunga': 405, 'waari': 406, 'sham': 407, 'picture': 408, 'scene': 409, 'hero': 410, 'jaisa': 411, 'heroine': 412, 'story': 413, 'ghoom': 414, 'mosture': 415, 'shaadi': 416, 'hogi': 417, 'babies': 418, 'badlenge': 419, 'napkin': 420, 'jaungi': 421, 'neating': 422, 'hongi': 423, 'mommy': 424, 'papa': 425, 'bolenge': 426, 'karo': 427, 'hoga': 428, 'hill': 429, 'honeymoon': 430, 'tile': 431, 'isme': 432, 'nayi': 433, 'soon': 434, 'thode': 435, 'bache': 436, 'relationship': 437, 'promotion': 438, 'paya': 439, 'jaal': 440, 'kadd': 441, 'lai': 442, 'soniye': 443, 'lagge': 444, 'saal': 445, 'kare': 446, 'ghaira': 447, 'jad': 448, 'dukh': 449, 'ae': 450, 'kinna': 451, 'tapaave': 452, 'inna': 453, 'tadpaave': 454, 'fer': 455, 'kari': 456, 'jaaave': 457, 'kaindi': 458, 'gaddi': 459, 'gehdiya': 460, 'lavaade': 461, 'hunn': 462, 'chorus': 463, 'suno': 464, 'kahaani': 465, 'li': 466, 'red': 467, 'wine': 468, 'puraani': 469, 'laakh': 470, 'roka': 471, 'manmaani': 472, 'mili': 473, 'apsara': 474, 'zara': 475, 'bata': 476, 'lapata': 477, 'munde': 478, 'kudiya': 479, 'ral': 480, 'mil': 481, 'jaayenge': 482, 'crazy': 483, 'floor': 484, 'aayenge': 485, 'milke': 486, 'note': 487, 'udayenge': 488, 'zoom': 489, 'video': 490, 'banwayenge': 491, 'cousin': 492, 'letâ€™s': 493, 'celebrate': 494, 'pre': 495, 'shagan': 496, 'dhoondhta': 497, 'kanwara': 498, 'lagan': 499, 'kayiyo': 500, 'rishte': 501, 'pakke': 502, 'jinke': 503, 'nain': 504, 'matakke': 505, 'akh': 506, 'seedhi': 507, 'utte': 508, 'rakhe': 509, 'das': 510, 'saariâ€¦': 511, 'kheench': 512, 'di': 513, 'come': 514, 'party': 515, 'with': 516, 'dheere': 517, 'kaho': 518, 'joote': 519, 'chhittar': 520, 'khayega': 521, 'super': 522, 'oopar': 523, 'maahol': 524, 'banana': 525, 'bhuaa': 526, 'fufad': 527, 'ji': 528, 'nachana': 529, 'masti': 530, 'zor': 531, 'rahega': 532, 'lo': 533, 'kahega': 534, 'punjabi': 535, 'ladkiyan': 536, 'patâ€™ti': 537, 'khuli': 538, 'bantâ€™ti': 539, 'chali': 540, 'jaayegi': 541, 'catering': 542, 'wale': 543, 'shamat': 544, 'aayegi': 545, 'hmmâ€¦': 546, 'moonde': 547, 'khwahishon': 548, 'boondein': 549, 'shayad': 550, 'alam': 551, 'raho': 552, 'raaste': 553, 'jayein': 554, 'jayeinâ€¦': 555, 'jaan': 556, 'khamoshi': 557, 'naagme': 558, 'gaungaa': 559, 'hmmmmmâ€¦': 560, 'jaruri': 561, 'hawaen': 562, 'saanson': 563, 'talaash': 564, 'houn': 565, 'pair': 566, 'zaminon': 567, 'hasna': 568, 'dhudun': 569, 'tumheâ€¦': 570, 'mohabbat': 571, 'tutte': 572, 'tukde': 573, 'reh': 574, 'jaungaâ€¦': 575, 'hmmmmâ€¦': 576, 'samjhega': 577, 'zamaana': 578, 'kamla': 579, 'jitni': 580, 'haseen': 581, 'mulakatein': 582, 'unse': 583, 'pyari': 584, 'baaton': 585, 'jaate': 586, 'â€˜ch': 587, 'kis': 588, 'soch': 589, 'pada': 590, 'jee': 591, 'raha': 592, 'deewana': 593, 'chhup': 594, 'sama': 595, 'chhed': 596, 'kaisa': 597, 'fasana': 598, 'muskurana': 599, 'seekha': 600, 'lagane': 601, 'tareeka': 602, 'aitbaar': 603, 'pata': 604, 'qadar': 605, 'pehar': 606, 'barq': 607, 'kaam': 608, 'hee': 609, 'aag': 610, 'lagaayi': 611, 'jaam': 612, 'ghoul': 613, 'mastiyan': 614, 'chaandni': 615, 'muskurai': 616, 'chaand': 617, 'saâ€™ay': 618, 'saaqiya': 619, 'pilaayi': 620, 'nasha': 621, 'sheeshe': 622, 'angrai': 623, 'laine': 624, 'bazm': 625, 'rindaan': 626, 'saagar': 627, 'khanakne': 628, 'maikade': 629, 'barasne': 630, 'lagi': 631, 'mastiyaan': 632, 'ghata': 633, 'chaayi': 634, 'be': 635, 'hijabaana': 636, 'saamne': 637, 'gaye': 638, 'takra': 639, 'unki': 640, 'laree': 641, 'laraai': 642, 'thee': 643, 'haya': 644, 'her': 645, 'mulaqaat': 646, 'surkh': 647, 'aariz': 648, 'huâ€™ay': 649, 'wasal': 650, 'sharma': 651, 'sawaalat': 652, 'gardan': 653, 'jhukaayi': 654, 'shaikh': 655, 'sahib': 656, 'imaan': 657, 'bik': 658, 'saqi': 659, 'pigal': 660, 'pehle': 661, 'kitne': 662, 'maghroor': 663, 'the': 664, 'lut': 665, 'parsaayi': 666, 'shukar': 667, 'kee': 668, 'aabro': 669, 'apne': 670, 'usne': 671, 'qabar': 672, 'chaadar': 673, 'gul': 674, 'charhaayi': 675, 'gayaâ€¦': 676, 'aati': 677, 'jaati': 678, 'milte': 679, 'doori': 680, 'sahein': 681, 'betaabiyan': 682, 'paas': 683, 'nazdeekiyan': 684, 'hazaro': 685, 'aagosh': 686, 'aapki': 687, 'sukoon': 688, 'paaye': 689, 'aankhen': 690, 'raas': 691, 'yahan': 692, 'aata': 693, 'seene': 694, 'bharti': 695, 'hawa': 696, 'chalta': 697, 'ret': 698, 'jaisi': 699, 'udti': 700, 'safar': 701, 'ruke': 702, 'kehne': 703, 'kehna': 704, 'keh': 705, 'chhuke': 706, 'nigahein': 707, 'nigahon': 708, 'bekabar': 709, 'padhti': 710, 'yun': 711, 'mila': 712, 'sapne': 713, 'hue': 714, 'sarphire': 715, 'aate': 716, 'udte': 717, 'lamhein': 718, 'hasi': 719, 'khushi': 720, 'beqadar': 721, 'jis': 722, 'dekhun': 723, 'phirti': 724, 'hey': 725, 'vyaar': 726, 'baitha': 727, 'love': 728, 'kyunki': 729, 'boyfriendâ€¦': 730, 'ankhiyon': 731, 'delhi': 732, 'wala': 733, 'kajra': 734, 'invite': 735, 'aavan': 736, 'tenu': 737, 'jhappi': 738, 'paavan': 739, 'thought': 740, 'excite': 741, 'chala': 742, 'jaayega': 743, 'tang': 744, 'ditch': 745, 'waali': 746, 'sang': 747, 'sohneya': 748, 've': 749}\n"
     ]
    }
   ],
   "source": [
    "print(tokenizer.word_index)"
   ]
  },
  {
   "cell_type": "code",
   "execution_count": 62,
   "metadata": {},
   "outputs": [],
   "source": [
    "model = keras.Sequential([\n",
    "    keras.layers.Embedding(total_words, 100, input_length =  max_sequences_len-1),\n",
    "    keras.layers.Bidirectional(keras.layers.LSTM(150)),\n",
    "    keras.layers.Dense(total_words, activation = \"softmax\")\n",
    "])"
   ]
  },
  {
   "cell_type": "code",
   "execution_count": 63,
   "metadata": {},
   "outputs": [],
   "source": [
    "model.compile(optimizer = keras.optimizers.Adam(learning_rate = 0.01), loss = \"categorical_crossentropy\", metrics = [\"accuracy\"])"
   ]
  },
  {
   "cell_type": "code",
   "execution_count": 64,
   "metadata": {},
   "outputs": [
    {
     "name": "stdout",
     "output_type": "stream",
     "text": [
      "Model: \"sequential_3\"\n",
      "_________________________________________________________________\n",
      "Layer (type)                 Output Shape              Param #   \n",
      "=================================================================\n",
      "embedding_3 (Embedding)      (None, 11, 100)           75000     \n",
      "_________________________________________________________________\n",
      "bidirectional_3 (Bidirection (None, 300)               301200    \n",
      "_________________________________________________________________\n",
      "dense_3 (Dense)              (None, 750)               225750    \n",
      "=================================================================\n",
      "Total params: 601,950\n",
      "Trainable params: 601,950\n",
      "Non-trainable params: 0\n",
      "_________________________________________________________________\n"
     ]
    }
   ],
   "source": [
    "model.summary()"
   ]
  },
  {
   "cell_type": "code",
   "execution_count": 65,
   "metadata": {},
   "outputs": [
    {
     "name": "stdout",
     "output_type": "stream",
     "text": [
      "Train on 1837 samples\n",
      "Epoch 1/100\n",
      "1837/1837 [==============================] - 2s 1ms/sample - loss: 6.2304 - accuracy: 0.0261\n",
      "Epoch 2/100\n",
      "1837/1837 [==============================] - 1s 367us/sample - loss: 5.0070 - accuracy: 0.1192\n",
      "Epoch 3/100\n",
      "1837/1837 [==============================] - 1s 365us/sample - loss: 3.5205 - accuracy: 0.3283\n",
      "Epoch 4/100\n",
      "1837/1837 [==============================] - 1s 362us/sample - loss: 2.2110 - accuracy: 0.5226\n",
      "Epoch 5/100\n",
      "1837/1837 [==============================] - 1s 356us/sample - loss: 1.2445 - accuracy: 0.6990\n",
      "Epoch 6/100\n",
      "1837/1837 [==============================] - 1s 360us/sample - loss: 0.7504 - accuracy: 0.8231\n",
      "Epoch 7/100\n",
      "1837/1837 [==============================] - 1s 358us/sample - loss: 0.5071 - accuracy: 0.8753\n",
      "Epoch 8/100\n",
      "1837/1837 [==============================] - 1s 365us/sample - loss: 0.4052 - accuracy: 0.8879\n",
      "Epoch 9/100\n",
      "1837/1837 [==============================] - 1s 356us/sample - loss: 0.3661 - accuracy: 0.8977\n",
      "Epoch 10/100\n",
      "1837/1837 [==============================] - 1s 358us/sample - loss: 0.3289 - accuracy: 0.8977\n",
      "Epoch 11/100\n",
      "1837/1837 [==============================] - 1s 358us/sample - loss: 0.3107 - accuracy: 0.8955\n",
      "Epoch 12/100\n",
      "1837/1837 [==============================] - 1s 358us/sample - loss: 0.2987 - accuracy: 0.9009\n",
      "Epoch 13/100\n",
      "1837/1837 [==============================] - 1s 358us/sample - loss: 0.2951 - accuracy: 0.8966\n",
      "Epoch 14/100\n",
      "1837/1837 [==============================] - 1s 358us/sample - loss: 0.2907 - accuracy: 0.8993\n",
      "Epoch 15/100\n",
      "1837/1837 [==============================] - 1s 385us/sample - loss: 0.2895 - accuracy: 0.8982 - loss: 0.2663 - accuracy\n",
      "Epoch 16/100\n",
      "1837/1837 [==============================] - 1s 358us/sample - loss: 0.2825 - accuracy: 0.9020\n",
      "Epoch 17/100\n",
      "1837/1837 [==============================] - 1s 359us/sample - loss: 0.2779 - accuracy: 0.8993\n",
      "Epoch 18/100\n",
      "1837/1837 [==============================] - 1s 360us/sample - loss: 0.2702 - accuracy: 0.8993\n",
      "Epoch 19/100\n",
      "1837/1837 [==============================] - 1s 360us/sample - loss: 0.2597 - accuracy: 0.9015\n",
      "Epoch 20/100\n",
      "1837/1837 [==============================] - 1s 360us/sample - loss: 0.2674 - accuracy: 0.9004\n",
      "Epoch 21/100\n",
      "1837/1837 [==============================] - 1s 355us/sample - loss: 0.2630 - accuracy: 0.8998\n",
      "Epoch 22/100\n",
      "1837/1837 [==============================] - 1s 359us/sample - loss: 0.2672 - accuracy: 0.9015\n",
      "Epoch 23/100\n",
      "1837/1837 [==============================] - 1s 362us/sample - loss: 0.2606 - accuracy: 0.9053\n",
      "Epoch 24/100\n",
      "1837/1837 [==============================] - 1s 356us/sample - loss: 0.2556 - accuracy: 0.9036\n",
      "Epoch 25/100\n",
      "1837/1837 [==============================] - 1s 358us/sample - loss: 0.2530 - accuracy: 0.9064\n",
      "Epoch 26/100\n",
      "1837/1837 [==============================] - 1s 359us/sample - loss: 0.2599 - accuracy: 0.9015\n",
      "Epoch 27/100\n",
      "1837/1837 [==============================] - 1s 360us/sample - loss: 0.2612 - accuracy: 0.9031\n",
      "Epoch 28/100\n",
      "1837/1837 [==============================] - 1s 360us/sample - loss: 0.2549 - accuracy: 0.9009\n",
      "Epoch 29/100\n",
      "1837/1837 [==============================] - 1s 359us/sample - loss: 0.2558 - accuracy: 0.9020\n",
      "Epoch 30/100\n",
      "1837/1837 [==============================] - 1s 359us/sample - loss: 0.2583 - accuracy: 0.9036\n",
      "Epoch 31/100\n",
      "1837/1837 [==============================] - 1s 353us/sample - loss: 0.2463 - accuracy: 0.9020\n",
      "Epoch 32/100\n",
      "1837/1837 [==============================] - 1s 360us/sample - loss: 0.2510 - accuracy: 0.9085\n",
      "Epoch 33/100\n",
      "1837/1837 [==============================] - 1s 360us/sample - loss: 0.2440 - accuracy: 0.8998\n",
      "Epoch 34/100\n",
      "1837/1837 [==============================] - 1s 353us/sample - loss: 0.2439 - accuracy: 0.9026\n",
      "Epoch 35/100\n",
      "1837/1837 [==============================] - 1s 356us/sample - loss: 0.2419 - accuracy: 0.9026\n",
      "Epoch 36/100\n",
      "1837/1837 [==============================] - 1s 359us/sample - loss: 0.2413 - accuracy: 0.9047\n",
      "Epoch 37/100\n",
      "1837/1837 [==============================] - 1s 356us/sample - loss: 0.2430 - accuracy: 0.9015\n",
      "Epoch 38/100\n",
      "1837/1837 [==============================] - 1s 355us/sample - loss: 0.2383 - accuracy: 0.9053\n",
      "Epoch 39/100\n",
      "1837/1837 [==============================] - 1s 359us/sample - loss: 0.2365 - accuracy: 0.9020\n",
      "Epoch 40/100\n",
      "1837/1837 [==============================] - 1s 357us/sample - loss: 0.2416 - accuracy: 0.8987\n",
      "Epoch 41/100\n",
      "1837/1837 [==============================] - 1s 368us/sample - loss: 0.2421 - accuracy: 0.9058\n",
      "Epoch 42/100\n",
      "1837/1837 [==============================] - 1s 363us/sample - loss: 0.3170 - accuracy: 0.8911\n",
      "Epoch 43/100\n",
      "1837/1837 [==============================] - 1s 357us/sample - loss: 1.3054 - accuracy: 0.6685\n",
      "Epoch 44/100\n",
      "1837/1837 [==============================] - 1s 363us/sample - loss: 1.6966 - accuracy: 0.5950\n",
      "Epoch 45/100\n",
      "1837/1837 [==============================] - 1s 389us/sample - loss: 0.8602 - accuracy: 0.7763\n",
      "Epoch 46/100\n",
      "1837/1837 [==============================] - 1s 358us/sample - loss: 0.4985 - accuracy: 0.8579\n",
      "Epoch 47/100\n",
      "1837/1837 [==============================] - 1s 356us/sample - loss: 0.3678 - accuracy: 0.8873\n",
      "Epoch 48/100\n",
      "1837/1837 [==============================] - 1s 357us/sample - loss: 0.3004 - accuracy: 0.8966\n",
      "Epoch 49/100\n",
      "1837/1837 [==============================] - 1s 359us/sample - loss: 0.2851 - accuracy: 0.9015\n",
      "Epoch 50/100\n",
      "1837/1837 [==============================] - 1s 356us/sample - loss: 0.2655 - accuracy: 0.8993\n",
      "Epoch 51/100\n",
      "1837/1837 [==============================] - 1s 362us/sample - loss: 0.2627 - accuracy: 0.9036\n",
      "Epoch 52/100\n",
      "1837/1837 [==============================] - 1s 355us/sample - loss: 0.2557 - accuracy: 0.8987\n",
      "Epoch 53/100\n",
      "1837/1837 [==============================] - 1s 364us/sample - loss: 0.2552 - accuracy: 0.9053\n",
      "Epoch 54/100\n",
      "1837/1837 [==============================] - 1s 356us/sample - loss: 0.2509 - accuracy: 0.8993\n",
      "Epoch 55/100\n",
      "1837/1837 [==============================] - 1s 358us/sample - loss: 0.2401 - accuracy: 0.9026\n",
      "Epoch 56/100\n",
      "1837/1837 [==============================] - 1s 359us/sample - loss: 0.2538 - accuracy: 0.9015\n",
      "Epoch 57/100\n",
      "1837/1837 [==============================] - 1s 360us/sample - loss: 0.2436 - accuracy: 0.9026\n",
      "Epoch 58/100\n",
      "1837/1837 [==============================] - 1s 360us/sample - loss: 0.2392 - accuracy: 0.9020\n",
      "Epoch 59/100\n",
      "1837/1837 [==============================] - 1s 352us/sample - loss: 0.2385 - accuracy: 0.8993\n",
      "Epoch 60/100\n",
      "1837/1837 [==============================] - 1s 361us/sample - loss: 0.2409 - accuracy: 0.9053\n",
      "Epoch 61/100\n",
      "1837/1837 [==============================] - 1s 362us/sample - loss: 0.2396 - accuracy: 0.9031\n",
      "Epoch 62/100\n",
      "1837/1837 [==============================] - 1s 356us/sample - loss: 0.2362 - accuracy: 0.8982\n",
      "Epoch 63/100\n",
      "1837/1837 [==============================] - 1s 359us/sample - loss: 0.2392 - accuracy: 0.9042\n",
      "Epoch 64/100\n",
      "1837/1837 [==============================] - 1s 365us/sample - loss: 0.2390 - accuracy: 0.9031\n",
      "Epoch 65/100\n",
      "1837/1837 [==============================] - 1s 356us/sample - loss: 0.2386 - accuracy: 0.8998\n",
      "Epoch 66/100\n",
      "1837/1837 [==============================] - 1s 357us/sample - loss: 0.2360 - accuracy: 0.8977\n",
      "Epoch 67/100\n",
      "1837/1837 [==============================] - 1s 361us/sample - loss: 0.2336 - accuracy: 0.9091\n",
      "Epoch 68/100\n",
      "1837/1837 [==============================] - 1s 362us/sample - loss: 0.2353 - accuracy: 0.8993\n",
      "Epoch 69/100\n",
      "1837/1837 [==============================] - 1s 359us/sample - loss: 0.2318 - accuracy: 0.9058\n",
      "Epoch 70/100\n",
      "1837/1837 [==============================] - 1s 368us/sample - loss: 0.2301 - accuracy: 0.9053\n",
      "Epoch 71/100\n",
      "1837/1837 [==============================] - 1s 373us/sample - loss: 0.2350 - accuracy: 0.9042 - loss: 0.2396 - accura\n",
      "Epoch 72/100\n",
      "1837/1837 [==============================] - 1s 368us/sample - loss: 0.2306 - accuracy: 0.9015\n",
      "Epoch 73/100\n",
      "1837/1837 [==============================] - 1s 370us/sample - loss: 0.2291 - accuracy: 0.9031\n",
      "Epoch 74/100\n",
      "1837/1837 [==============================] - 1s 371us/sample - loss: 0.2283 - accuracy: 0.9026\n",
      "Epoch 75/100\n",
      "1837/1837 [==============================] - 1s 372us/sample - loss: 0.2282 - accuracy: 0.9080\n",
      "Epoch 76/100\n"
     ]
    },
    {
     "name": "stdout",
     "output_type": "stream",
     "text": [
      "1837/1837 [==============================] - 1s 358us/sample - loss: 0.2298 - accuracy: 0.9036\n",
      "Epoch 77/100\n",
      "1837/1837 [==============================] - 1s 357us/sample - loss: 0.2271 - accuracy: 0.9042\n",
      "Epoch 78/100\n",
      "1837/1837 [==============================] - 1s 358us/sample - loss: 0.2311 - accuracy: 0.9031\n",
      "Epoch 79/100\n",
      "1837/1837 [==============================] - 1s 370us/sample - loss: 0.2327 - accuracy: 0.9015\n",
      "Epoch 80/100\n",
      "1837/1837 [==============================] - 1s 357us/sample - loss: 0.2280 - accuracy: 0.9075\n",
      "Epoch 81/100\n",
      "1837/1837 [==============================] - 1s 359us/sample - loss: 0.2248 - accuracy: 0.9102\n",
      "Epoch 82/100\n",
      "1837/1837 [==============================] - 1s 362us/sample - loss: 0.2327 - accuracy: 0.8977\n",
      "Epoch 83/100\n",
      "1837/1837 [==============================] - 1s 355us/sample - loss: 0.2281 - accuracy: 0.9047\n",
      "Epoch 84/100\n",
      "1837/1837 [==============================] - 1s 359us/sample - loss: 0.2245 - accuracy: 0.9124\n",
      "Epoch 85/100\n",
      "1837/1837 [==============================] - 1s 359us/sample - loss: 0.2285 - accuracy: 0.9031\n",
      "Epoch 86/100\n",
      "1837/1837 [==============================] - 1s 355us/sample - loss: 0.2316 - accuracy: 0.9026\n",
      "Epoch 87/100\n",
      "1837/1837 [==============================] - 1s 358us/sample - loss: 0.2271 - accuracy: 0.9064\n",
      "Epoch 88/100\n",
      "1837/1837 [==============================] - 1s 355us/sample - loss: 0.2284 - accuracy: 0.9026\n",
      "Epoch 89/100\n",
      "1837/1837 [==============================] - 1s 372us/sample - loss: 0.2272 - accuracy: 0.9053\n",
      "Epoch 90/100\n",
      "1837/1837 [==============================] - 1s 409us/sample - loss: 0.2263 - accuracy: 0.9058\n",
      "Epoch 91/100\n",
      "1837/1837 [==============================] - 1s 413us/sample - loss: 0.2245 - accuracy: 0.9031\n",
      "Epoch 92/100\n",
      "1837/1837 [==============================] - 1s 407us/sample - loss: 0.2279 - accuracy: 0.9031\n",
      "Epoch 93/100\n",
      "1837/1837 [==============================] - 1s 360us/sample - loss: 0.2258 - accuracy: 0.9031\n",
      "Epoch 94/100\n",
      "1837/1837 [==============================] - 1s 376us/sample - loss: 0.2255 - accuracy: 0.9042\n",
      "Epoch 95/100\n",
      "1837/1837 [==============================] - 1s 370us/sample - loss: 0.2267 - accuracy: 0.9047\n",
      "Epoch 96/100\n",
      "1837/1837 [==============================] - 1s 410us/sample - loss: 0.2321 - accuracy: 0.9053\n",
      "Epoch 97/100\n",
      "1837/1837 [==============================] - 1s 391us/sample - loss: 0.2223 - accuracy: 0.9053\n",
      "Epoch 98/100\n",
      "1837/1837 [==============================] - 1s 374us/sample - loss: 0.2239 - accuracy: 0.9020\n",
      "Epoch 99/100\n",
      "1837/1837 [==============================] - 1s 420us/sample - loss: 0.2231 - accuracy: 0.9080\n",
      "Epoch 100/100\n",
      "1837/1837 [==============================] - 1s 378us/sample - loss: 0.2247 - accuracy: 0.9031\n"
     ]
    }
   ],
   "source": [
    "history = model.fit(xs, ys, epochs = 100, verbose = 1)"
   ]
  },
  {
   "cell_type": "code",
   "execution_count": 66,
   "metadata": {},
   "outputs": [],
   "source": [
    "import matplotlib.pyplot as plt\n",
    "plt.style.use(\"ggplot\")"
   ]
  },
  {
   "cell_type": "code",
   "execution_count": 67,
   "metadata": {},
   "outputs": [
    {
     "data": {
      "image/png": "[encoded data removed]",
      "text/plain": [
       "<Figure size 432x288 with 1 Axes>"
      ]
     },
     "metadata": {},
     "output_type": "display_data"
    },
    {
     "data": {
      "image/png": "[encoded data removed]",
      "text/plain": [
       "<Figure size 432x288 with 1 Axes>"
      ]
     },
     "metadata": {},
     "output_type": "display_data"
    }
   ],
   "source": [
    "def plot_graphs(history, string):\n",
    "    plt.plot(history.history[string])\n",
    "    plt.xlabel(\"Epochs\")\n",
    "    plt.ylabel(string)\n",
    "    plt.show()\n",
    "\n",
    "plot_graphs(history, \"accuracy\")\n",
    "plot_graphs(history, \"loss\")"
   ]
  },
  {
   "cell_type": "code",
   "execution_count": 77,
   "metadata": {},
   "outputs": [
    {
     "name": "stdout",
     "output_type": "stream",
     "text": [
      "dil ka kya pata tumko chaunga nazar se milaayi maza aa gayaâ€¦ ho gaya ho mujhse aa gayi mosture mein kisi iss qadar hain nain matakke\n"
     ]
    }
   ],
   "source": [
    "seed_text = \"dil ka kya pata tumko chaunga\"\n",
    "next_words = 20\n",
    "for _ in range(next_words):\n",
    "    token_list = tokenizer.texts_to_sequences([seed_text])[0]\n",
    "    token_list = pad_sequences([token_list], maxlen = max_sequences_len-1, padding = \"pre\")\n",
    "    predicted = model.predict_classes(token_list, verbose = 0)\n",
    "    output_word = \"\"\n",
    "    for word, index in tokenizer.word_index.items():\n",
    "        if index == predicted:\n",
    "            output_word = word\n",
    "            break\n",
    "    seed_text += \" \" + output_word\n",
    "print(seed_text)"
   ]
  },
  {
   "cell_type": "code",
   "execution_count": 78,
   "metadata": {},
   "outputs": [
    {
     "ename": "ModuleNotFoundError",
     "evalue": "No module named 'tf_agents'",
     "output_type": "error",
     "traceback": [
      "\u001b[1;31m---------------------------------------------------------------------------\u001b[0m",
      "\u001b[1;31mModuleNotFoundError\u001b[0m                       Traceback (most recent call last)",
      "\u001b[1;32m<ipython-input-78-fc46d2a7001a>\u001b[0m in \u001b[0;36m<module>\u001b[1;34m\u001b[0m\n\u001b[0;32m      1\u001b[0m \u001b[1;32mimport\u001b[0m \u001b[0mtensorflow\u001b[0m \u001b[1;32mas\u001b[0m \u001b[0mtf\u001b[0m\u001b[1;33m\u001b[0m\u001b[1;33m\u001b[0m\u001b[0m\n\u001b[1;32m----> 2\u001b[1;33m \u001b[1;32mfrom\u001b[0m \u001b[0mtf_agents\u001b[0m\u001b[1;33m.\u001b[0m\u001b[0mnetworks\u001b[0m \u001b[1;32mimport\u001b[0m \u001b[0mq_network\u001b[0m\u001b[1;33m\u001b[0m\u001b[1;33m\u001b[0m\u001b[0m\n\u001b[0m\u001b[0;32m      3\u001b[0m \u001b[1;32mfrom\u001b[0m \u001b[0mtf_agents\u001b[0m\u001b[1;33m.\u001b[0m\u001b[0magents\u001b[0m\u001b[1;33m.\u001b[0m\u001b[0mdqn\u001b[0m \u001b[1;32mimport\u001b[0m \u001b[0mdqn_agent\u001b[0m\u001b[1;33m\u001b[0m\u001b[1;33m\u001b[0m\u001b[0m\n\u001b[0;32m      4\u001b[0m \u001b[1;33m\u001b[0m\u001b[0m\n\u001b[0;32m      5\u001b[0m q_net = q_network.QNetwork(\n",
      "\u001b[1;31mModuleNotFoundError\u001b[0m: No module named 'tf_agents'"
     ]
    }
   ],
   "source": [
    "import tensorflow as tf\n",
    "from tf_agents.networks import q_network\n",
    "from tf_agents.agents.dqn import dqn_agent\n",
    "\n",
    "q_net = q_network.QNetwork(\n",
    "  train_env.observation_spec(),\n",
    "  train_env.action_spec(),\n",
    "  fc_layer_params=(100,))\n",
    "\n",
    "agent = dqn_agent.DqnAgent(\n",
    "  train_env.time_step_spec(),\n",
    "  train_env.action_spec(),\n",
    "  q_network=q_net,\n",
    "  optimizer=optimizer,\n",
    "  td_errors_loss_fn=common.element_wise_squared_loss,\n",
    "  train_step_counter=tf.Variable(0))\n",
    "\n",
    "agent.initialize()"
   ]
  },
  {
   "cell_type": "code",
   "execution_count": null,
   "metadata": {},
   "outputs": [],
   "source": []
  }
 ],
 "metadata": {
  "kernelspec": {
   "display_name": "Python 3",
   "language": "python",
   "name": "python3"
  },
  "language_info": {
   "codemirror_mode": {
    "name": "ipython",
    "version": 3
   },
   "file_extension": ".py",
   "mimetype": "text/x-python",
   "name": "python",
   "nbconvert_exporter": "python",
   "pygments_lexer": "ipython3",
   "version": "3.7.4"
  }
 },
 "nbformat": 4,
 "nbformat_minor": 4
}
