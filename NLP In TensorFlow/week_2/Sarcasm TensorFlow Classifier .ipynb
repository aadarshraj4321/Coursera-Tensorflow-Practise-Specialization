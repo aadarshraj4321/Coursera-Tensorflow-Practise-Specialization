{
 "cells": [
  {
   "cell_type": "code",
   "execution_count": 4,
   "metadata": {},
   "outputs": [],
   "source": [
    "import tensorflow as tf\n",
    "from tensorflow import keras\n",
    "import numpy as np\n",
    "from keras.preprocessing.sequence import pad_sequences\n",
    "from keras.preprocessing.text import Tokenizer\n",
    "import json"
   ]
  },
  {
   "cell_type": "code",
   "execution_count": 5,
   "metadata": {},
   "outputs": [],
   "source": [
    "with open(\"sarcasm.json\",\"r\") as f:\n",
    "    datastore = json.load(f)"
   ]
  },
  {
   "cell_type": "code",
   "execution_count": 7,
   "metadata": {},
   "outputs": [
    {
     "data": {
      "text/plain": [
       "[{'article_link': 'https://www.huffingtonpost.com/entry/versace-black-code_us_5861fbefe4b0de3a08f600d5',\n",
       "  'headline': \"former versace store clerk sues over secret 'black code' for minority shoppers\",\n",
       "  'is_sarcastic': 0},\n",
       " {'article_link': 'https://www.huffingtonpost.com/entry/roseanne-revival-review_us_5ab3a497e4b054d118e04365',\n",
       "  'headline': \"the 'roseanne' revival catches up to our thorny political mood, for better and worse\",\n",
       "  'is_sarcastic': 0},\n",
       " {'article_link': 'https://local.theonion.com/mom-starting-to-fear-son-s-web-series-closest-thing-she-1819576697',\n",
       "  'headline': \"mom starting to fear son's web series closest thing she will have to grandchild\",\n",
       "  'is_sarcastic': 1},\n",
       " {'article_link': 'https://politics.theonion.com/boehner-just-wants-wife-to-listen-not-come-up-with-alt-1819574302',\n",
       "  'headline': 'boehner just wants wife to listen, not come up with alternative debt-reduction ideas',\n",
       "  'is_sarcastic': 1},\n",
       " {'article_link': 'https://www.huffingtonpost.com/entry/jk-rowling-wishes-snape-happy-birthday_us_569117c4e4b0cad15e64fdcb',\n",
       "  'headline': 'j.k. rowling wishes snape happy birthday in the most magical way',\n",
       "  'is_sarcastic': 0},\n",
       " {'article_link': 'https://www.huffingtonpost.com/entry/advancing-the-worlds-women_b_6810038.html',\n",
       "  'headline': \"advancing the world's women\",\n",
       "  'is_sarcastic': 0},\n",
       " {'article_link': 'https://www.huffingtonpost.com/entry/how-meat-is-grown-in-a-lab_us_561d1189e4b0c5a1ce607e86',\n",
       "  'headline': 'the fascinating case for eating lab-grown meat',\n",
       "  'is_sarcastic': 0},\n",
       " {'article_link': 'https://www.huffingtonpost.com/entry/boxed-college-tuition-ben_n_7445644.html',\n",
       "  'headline': 'this ceo will send your kids to school, if you work for his company',\n",
       "  'is_sarcastic': 0},\n",
       " {'article_link': 'https://politics.theonion.com/top-snake-handler-leaves-sinking-huckabee-campaign-1819578231',\n",
       "  'headline': 'top snake handler leaves sinking huckabee campaign',\n",
       "  'is_sarcastic': 1},\n",
       " {'article_link': 'https://www.huffingtonpost.com/entry/fridays-morning-email-inside-trumps-presser-for-the-ages_us_58a6e33ee4b07602ad53a315',\n",
       "  'headline': \"friday's morning email: inside trump's presser for the ages\",\n",
       "  'is_sarcastic': 0}]"
      ]
     },
     "execution_count": 7,
     "metadata": {},
     "output_type": "execute_result"
    }
   ],
   "source": [
    "datastore[:10]"
   ]
  },
  {
   "cell_type": "code",
   "execution_count": 9,
   "metadata": {},
   "outputs": [],
   "source": [
    "\n",
    "sentences = []\n",
    "labels = []\n",
    "links = []\n",
    "\n",
    "for item in datastore:\n",
    "    sentences.append(item[\"headline\"])\n",
    "    labels.append(item[\"is_sarcastic\"])\n",
    "    links.append(item[\"article_link\"])"
   ]
  },
  {
   "cell_type": "code",
   "execution_count": 10,
   "metadata": {},
   "outputs": [
    {
     "data": {
      "text/plain": [
       "26709"
      ]
     },
     "execution_count": 10,
     "metadata": {},
     "output_type": "execute_result"
    }
   ],
   "source": [
    "len(sentences)"
   ]
  },
  {
   "cell_type": "code",
   "execution_count": 11,
   "metadata": {},
   "outputs": [],
   "source": [
    "vocab_size = 10000\n",
    "embedding_dim = 16\n",
    "max_length = 100\n",
    "trunc_type = \"post\"\n",
    "padding_type = \"post\"\n",
    "oov_token = \"<OOV>\"\n",
    "training_size = 20000"
   ]
  },
  {
   "cell_type": "code",
   "execution_count": 12,
   "metadata": {},
   "outputs": [],
   "source": [
    "training_sentences = sentences[0:training_size]\n",
    "testing_sentences = sentences[training_size:]\n",
    "training_labels = labels[0:training_size]\n",
    "testing_labels = labels[training_size:]"
   ]
  },
  {
   "cell_type": "code",
   "execution_count": 15,
   "metadata": {},
   "outputs": [],
   "source": [
    "tokenizer = Tokenizer(num_words=vocab_size,oov_token=oov_token)\n",
    "tokenizer.fit_on_texts(training_sentences)\n",
    "word_index = tokenizer.word_index\n",
    "training_sequences = tokenizer.texts_to_sequences(training_sentences)"
   ]
  },
  {
   "cell_type": "code",
   "execution_count": 16,
   "metadata": {},
   "outputs": [],
   "source": [
    "training_padded = pad_sequences(training_sequences,padding=padding_type,truncating=trunc_type,maxlen=max_length)"
   ]
  },
  {
   "cell_type": "code",
   "execution_count": 17,
   "metadata": {},
   "outputs": [],
   "source": [
    "testing_sequences = tokenizer.texts_to_sequences(testing_sentences)\n",
    "testing_padded = pad_sequences(testing_sequences,maxlen=max_length,truncating=trunc_type,padding=padding_type)"
   ]
  },
  {
   "cell_type": "code",
   "execution_count": 18,
   "metadata": {},
   "outputs": [],
   "source": [
    "training_padded = np.array(training_padded)\n",
    "testing_padded = np.array(testing_padded)\n",
    "training_labels = np.array(training_labels)\n",
    "testing_labels = np.array(testing_labels)"
   ]
  },
  {
   "cell_type": "code",
   "execution_count": 19,
   "metadata": {},
   "outputs": [],
   "source": [
    "model = keras.Sequential([\n",
    "    keras.layers.Embedding(vocab_size,embedding_dim,input_length=max_length),\n",
    "    keras.layers.GlobalAveragePooling1D(),\n",
    "    keras.layers.Dense(24,activation=\"relu\"),\n",
    "    keras.layers.Dense(1,activation=\"sigmoid\")\n",
    "])"
   ]
  },
  {
   "cell_type": "code",
   "execution_count": 20,
   "metadata": {},
   "outputs": [],
   "source": [
    "model.compile(optimizer=\"adam\",loss=\"binary_crossentropy\",metrics=[\"accuracy\"])"
   ]
  },
  {
   "cell_type": "code",
   "execution_count": 21,
   "metadata": {},
   "outputs": [
    {
     "name": "stdout",
     "output_type": "stream",
     "text": [
      "Model: \"sequential\"\n",
      "_________________________________________________________________\n",
      "Layer (type)                 Output Shape              Param #   \n",
      "=================================================================\n",
      "embedding (Embedding)        (None, 100, 16)           160000    \n",
      "_________________________________________________________________\n",
      "global_average_pooling1d (Gl (None, 16)                0         \n",
      "_________________________________________________________________\n",
      "dense (Dense)                (None, 24)                408       \n",
      "_________________________________________________________________\n",
      "dense_1 (Dense)              (None, 1)                 25        \n",
      "=================================================================\n",
      "Total params: 160,433\n",
      "Trainable params: 160,433\n",
      "Non-trainable params: 0\n",
      "_________________________________________________________________\n"
     ]
    }
   ],
   "source": [
    "model.summary()"
   ]
  },
  {
   "cell_type": "code",
   "execution_count": 23,
   "metadata": {},
   "outputs": [
    {
     "name": "stdout",
     "output_type": "stream",
     "text": [
      "Train on 20000 samples, validate on 6709 samples\n",
      "Epoch 1/30\n",
      "20000/20000 - 1s - loss: 0.6655 - accuracy: 0.5852 - val_loss: 0.5760 - val_accuracy: 0.8018\n",
      "Epoch 2/30\n",
      "20000/20000 - 1s - loss: 0.4188 - accuracy: 0.8356 - val_loss: 0.3821 - val_accuracy: 0.8340\n",
      "Epoch 3/30\n",
      "20000/20000 - 1s - loss: 0.3026 - accuracy: 0.8779 - val_loss: 0.3552 - val_accuracy: 0.8474\n",
      "Epoch 4/30\n",
      "20000/20000 - 1s - loss: 0.2509 - accuracy: 0.9011 - val_loss: 0.3465 - val_accuracy: 0.8515\n",
      "Epoch 5/30\n",
      "20000/20000 - 1s - loss: 0.2174 - accuracy: 0.9157 - val_loss: 0.3540 - val_accuracy: 0.8487\n",
      "Epoch 6/30\n",
      "20000/20000 - 1s - loss: 0.1888 - accuracy: 0.9291 - val_loss: 0.3561 - val_accuracy: 0.8547\n",
      "Epoch 7/30\n",
      "20000/20000 - 1s - loss: 0.1661 - accuracy: 0.9372 - val_loss: 0.3771 - val_accuracy: 0.8535\n",
      "Epoch 8/30\n",
      "20000/20000 - 1s - loss: 0.1491 - accuracy: 0.9464 - val_loss: 0.3902 - val_accuracy: 0.8527\n",
      "Epoch 9/30\n",
      "20000/20000 - 1s - loss: 0.1331 - accuracy: 0.9524 - val_loss: 0.4365 - val_accuracy: 0.8401\n",
      "Epoch 10/30\n",
      "20000/20000 - 1s - loss: 0.1199 - accuracy: 0.9578 - val_loss: 0.4478 - val_accuracy: 0.8429\n",
      "Epoch 11/30\n",
      "20000/20000 - 1s - loss: 0.1086 - accuracy: 0.9624 - val_loss: 0.4652 - val_accuracy: 0.8477\n",
      "Epoch 12/30\n",
      "20000/20000 - 1s - loss: 0.0998 - accuracy: 0.9657 - val_loss: 0.4921 - val_accuracy: 0.8433\n",
      "Epoch 13/30\n",
      "20000/20000 - 1s - loss: 0.0902 - accuracy: 0.9692 - val_loss: 0.5714 - val_accuracy: 0.8319\n",
      "Epoch 14/30\n",
      "20000/20000 - 1s - loss: 0.0803 - accuracy: 0.9732 - val_loss: 0.5766 - val_accuracy: 0.8296\n",
      "Epoch 15/30\n",
      "20000/20000 - 1s - loss: 0.0750 - accuracy: 0.9757 - val_loss: 0.5953 - val_accuracy: 0.8371\n",
      "Epoch 16/30\n",
      "20000/20000 - 1s - loss: 0.0698 - accuracy: 0.9764 - val_loss: 0.6453 - val_accuracy: 0.8304\n",
      "Epoch 17/30\n",
      "20000/20000 - 1s - loss: 0.0604 - accuracy: 0.9814 - val_loss: 0.6659 - val_accuracy: 0.8319\n",
      "Epoch 18/30\n",
      "20000/20000 - 1s - loss: 0.0558 - accuracy: 0.9832 - val_loss: 0.7063 - val_accuracy: 0.8286\n",
      "Epoch 19/30\n",
      "20000/20000 - 1s - loss: 0.0526 - accuracy: 0.9829 - val_loss: 0.7685 - val_accuracy: 0.8259\n",
      "Epoch 20/30\n",
      "20000/20000 - 1s - loss: 0.0462 - accuracy: 0.9853 - val_loss: 0.8149 - val_accuracy: 0.8234\n",
      "Epoch 21/30\n",
      "20000/20000 - 1s - loss: 0.0445 - accuracy: 0.9865 - val_loss: 0.8526 - val_accuracy: 0.8228\n",
      "Epoch 22/30\n",
      "20000/20000 - 1s - loss: 0.0414 - accuracy: 0.9862 - val_loss: 0.9172 - val_accuracy: 0.8211\n",
      "Epoch 23/30\n",
      "20000/20000 - 1s - loss: 0.0366 - accuracy: 0.9886 - val_loss: 0.9286 - val_accuracy: 0.8189\n",
      "Epoch 24/30\n",
      "20000/20000 - 1s - loss: 0.0344 - accuracy: 0.9886 - val_loss: 0.9901 - val_accuracy: 0.8185\n",
      "Epoch 25/30\n",
      "20000/20000 - 1s - loss: 0.0288 - accuracy: 0.9923 - val_loss: 0.9976 - val_accuracy: 0.8189\n",
      "Epoch 26/30\n",
      "20000/20000 - 1s - loss: 0.0279 - accuracy: 0.9916 - val_loss: 1.0596 - val_accuracy: 0.8167\n",
      "Epoch 27/30\n",
      "20000/20000 - 1s - loss: 0.0257 - accuracy: 0.9923 - val_loss: 1.2304 - val_accuracy: 0.8129\n",
      "Epoch 28/30\n",
      "20000/20000 - 1s - loss: 0.0254 - accuracy: 0.9926 - val_loss: 1.1981 - val_accuracy: 0.8134\n",
      "Epoch 29/30\n",
      "20000/20000 - 1s - loss: 0.0231 - accuracy: 0.9931 - val_loss: 1.1582 - val_accuracy: 0.8111\n",
      "Epoch 30/30\n",
      "20000/20000 - 1s - loss: 0.0218 - accuracy: 0.9930 - val_loss: 1.2397 - val_accuracy: 0.8120\n"
     ]
    }
   ],
   "source": [
    "num_epochs = 30\n",
    "history = model.fit(training_padded,training_labels,epochs=num_epochs,validation_data=(testing_padded,testing_labels),verbose=2)"
   ]
  },
  {
   "cell_type": "code",
   "execution_count": 28,
   "metadata": {},
   "outputs": [],
   "source": [
    "import matplotlib.pyplot as plt\n",
    "plt.style.use(\"ggplot\")\n",
    "\n",
    "%matplotlib inline"
   ]
  },
  {
   "cell_type": "code",
   "execution_count": 29,
   "metadata": {},
   "outputs": [
    {
     "data": {
      "image/png": "[encoded data removed]",
      "text/plain": [
       "<Figure size 432x288 with 1 Axes>"
      ]
     },
     "metadata": {
      "needs_background": "light"
     },
     "output_type": "display_data"
    },
    {
     "data": {
      "image/png": "[encoded data removed]",
      "text/plain": [
       "<Figure size 432x288 with 1 Axes>"
      ]
     },
     "metadata": {
      "needs_background": "light"
     },
     "output_type": "display_data"
    }
   ],
   "source": [
    "def plot_graphs(history,string):\n",
    "    plt.plot(history.history[string])\n",
    "    plt.plot(history.history[\"val_\" + string])\n",
    "    plt.xlabel(\"Epochs\")\n",
    "    plt.ylabel(string)\n",
    "    plt.legend([string, \"val_\" + string])\n",
    "    plt.show()\n",
    "    \n",
    "plot_graphs(history, \"accuracy\")\n",
    "plot_graphs(history, \"loss\")"
   ]
  },
  {
   "cell_type": "code",
   "execution_count": 37,
   "metadata": {},
   "outputs": [
    {
     "name": "stdout",
     "output_type": "stream",
     "text": [
      "[ 153  890    2  891 1445 2215  595 5650  221  133   36   45    2 8864\n",
      "    0    0    0    0    0    0    0    0    0    0    0    0    0    0\n",
      "    0    0    0    0    0    0    0    0    0    0    0    0    0    0\n",
      "    0    0    0    0    0    0    0    0    0    0    0    0    0    0\n",
      "    0    0    0    0    0    0    0    0    0    0    0    0    0    0\n",
      "    0    0    0    0    0    0    0    0    0    0    0    0    0    0\n",
      "    0    0    0    0    0    0    0    0    0    0    0    0    0    0\n",
      "    0    0]\n",
      "\n",
      "mom starting to fear son's web series closest thing she will have to grandchild ? ? ? ? ? ? ? ? ? ? ? ? ? ? ? ? ? ? ? ? ? ? ? ? ? ? ? ? ? ? ? ? ? ? ? ? ? ? ? ? ? ? ? ? ? ? ? ? ? ? ? ? ? ? ? ? ? ? ? ? ? ? ? ? ? ? ? ? ? ? ? ? ? ? ? ? ? ? ? ? ? ? ? ? ? ?\n",
      "mom starting to fear son's web series closest thing she will have to grandchild\n",
      "1\n"
     ]
    }
   ],
   "source": [
    "reverse_word_index = dict([(value,key) for (key,value) in word_index.items()])\n",
    "\n",
    "def decode_sentence(text):\n",
    "    return \" \".join([reverse_word_index.get(i, \"?\") for i in text])\n",
    "\n",
    "print(training_padded[2])\n",
    "print()\n",
    "print(decode_sentence(training_padded[2]))\n",
    "print(training_sentences[2])\n",
    "print(labels[2])"
   ]
  },
  {
   "cell_type": "code",
   "execution_count": 38,
   "metadata": {},
   "outputs": [
    {
     "name": "stdout",
     "output_type": "stream",
     "text": [
      "(10000, 16)\n"
     ]
    }
   ],
   "source": [
    "e = model.layers[0]\n",
    "weights = e.get_weights()[0]\n",
    "print(weights.shape)"
   ]
  },
  {
   "cell_type": "code",
   "execution_count": 39,
   "metadata": {},
   "outputs": [],
   "source": [
    "import io"
   ]
  },
  {
   "cell_type": "code",
   "execution_count": 40,
   "metadata": {},
   "outputs": [],
   "source": [
    "out_v = io.open(\"vecs_1.tsv\",\"w\",encoding=\"utf-8\")\n",
    "out_m = io.open(\"meta_1.tsv\",\"w\",encoding=\"utf-8\")\n",
    "\n",
    "for word_num in range(1,vocab_size):\n",
    "    word = reverse_word_index[word_num]\n",
    "    embeddings = weights[word_num]\n",
    "    out_m.write(word + \"\\n\")\n",
    "    out_v.write(\"\\t\".join([str(x) for x in embeddings]) + \"\\n\")\n",
    "out_v.close()\n",
    "out_m.close()"
   ]
  },
  {
   "cell_type": "code",
   "execution_count": 43,
   "metadata": {},
   "outputs": [],
   "source": [
    "sentence = [\"granny starting to fear spiders in the garden might be real\", \"game of thrones season finale showing this sunday night\"]\n",
    "sequences = tokenizer.texts_to_sequences(sentence)\n",
    "padded = pad_sequences(sequences,maxlen=max_length,padding=padding_type,truncating=trunc_type)"
   ]
  },
  {
   "cell_type": "code",
   "execution_count": 44,
   "metadata": {},
   "outputs": [
    {
     "name": "stdout",
     "output_type": "stream",
     "text": [
      "[[9.4102430e-01]\n",
      " [2.0193757e-07]]\n"
     ]
    }
   ],
   "source": [
    "print(model.predict(padded))"
   ]
  },
  {
   "cell_type": "code",
   "execution_count": null,
   "metadata": {},
   "outputs": [],
   "source": []
  }
 ],
 "metadata": {
  "kernelspec": {
   "display_name": "Python 3",
   "language": "python",
   "name": "python3"
  },
  "language_info": {
   "codemirror_mode": {
    "name": "ipython",
    "version": 3
   },
   "file_extension": ".py",
   "mimetype": "text/x-python",
   "name": "python",
   "nbconvert_exporter": "python",
   "pygments_lexer": "ipython3",
   "version": "3.7.4"
  }
 },
 "nbformat": 4,
 "nbformat_minor": 4
}
