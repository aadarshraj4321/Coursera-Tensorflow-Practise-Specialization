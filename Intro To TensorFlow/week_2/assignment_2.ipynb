{
 "cells": [
  {
   "cell_type": "code",
   "execution_count": 1,
   "metadata": {},
   "outputs": [],
   "source": [
    "import tensorflow as tf\n",
    "import numpy as np\n",
    "from tensorflow import keras"
   ]
  },
  {
   "cell_type": "code",
   "execution_count": null,
   "metadata": {},
   "outputs": [],
   "source": []
  },
  {
   "cell_type": "code",
   "execution_count": 14,
   "metadata": {},
   "outputs": [],
   "source": [
    "# GRADED FUNCTION: train_mnist\n",
    "def train_mnist():\n",
    "    # Please write your code only where you are indicated.\n",
    "    # please do not remove # model fitting inline comments.\n",
    "\n",
    "    # YOUR CODE SHOULD START HERE\n",
    "    class myCallback(keras.callbacks.Callback):\n",
    "        def on_epoch_end(self,epoch,logs={}):\n",
    "            if(logs.get(\"loss\")<0.02):\n",
    "                print(\"\\nReached 99% accuracy so cancelling training!\")\n",
    "                self.model.stop_training = True\n",
    "    \n",
    "    callback = myCallback()\n",
    "\n",
    "    # YOUR CODE SHOULD END HERE\n",
    "\n",
    "    mnist = tf.keras.datasets.mnist\n",
    "\n",
    "    (x_train, y_train),(x_test, y_test) = mnist.load_data()\n",
    "    # YOUR CODE SHOULD START HERE\n",
    "    x_train = x_train / 255.0\n",
    "    x_test = x_test / 255.0\n",
    "\n",
    "    # YOUR CODE SHOULD END HERE\n",
    "    model = tf.keras.models.Sequential([\n",
    "        # YOUR CODE SHOULD START HERE\n",
    "        keras.layers.Flatten(input_shape=(28,28)),\n",
    "        keras.layers.Dense(128,activation=\"relu\"),\n",
    "        keras.layers.Dense(10,activation=\"softmax\")\n",
    "        # YOUR CODE SHOULD END HERE\n",
    "    ])\n",
    "\n",
    "    model.compile(optimizer='adam',\n",
    "                  loss='sparse_categorical_crossentropy',\n",
    "                  metrics=['accuracy'])\n",
    "    \n",
    "    # model fitting\n",
    "    history = model.fit(x_train,y_train,epochs=10,callbacks=[callback])\n",
    "    # model fitting\n",
    "    return history.epoch #history.history['acc'][-1]"
   ]
  },
  {
   "cell_type": "code",
   "execution_count": 15,
   "metadata": {},
   "outputs": [
    {
     "name": "stdout",
     "output_type": "stream",
     "text": [
      "Train on 60000 samples\n",
      "Epoch 1/10\n",
      "60000/60000 [==============================] - 2s 41us/sample - loss: 0.2589 - accuracy: 0.9264\n",
      "Epoch 2/10\n",
      "60000/60000 [==============================] - 2s 28us/sample - loss: 0.1157 - accuracy: 0.9660\n",
      "Epoch 3/10\n",
      "60000/60000 [==============================] - 2s 29us/sample - loss: 0.0800 - accuracy: 0.9758\n",
      "Epoch 4/10\n",
      "60000/60000 [==============================] - 2s 28us/sample - loss: 0.0594 - accuracy: 0.9820\n",
      "Epoch 5/10\n",
      "60000/60000 [==============================] - 2s 28us/sample - loss: 0.0465 - accuracy: 0.9854\n",
      "Epoch 6/10\n",
      "60000/60000 [==============================] - 2s 29us/sample - loss: 0.0363 - accuracy: 0.9884\n",
      "Epoch 7/10\n",
      "60000/60000 [==============================] - 2s 29us/sample - loss: 0.0297 - accuracy: 0.9907\n",
      "Epoch 8/10\n",
      "60000/60000 [==============================] - 2s 29us/sample - loss: 0.0240 - accuracy: 0.9924\n",
      "Epoch 9/10\n",
      "60000/60000 [==============================] - 2s 29us/sample - loss: 0.0200 - accuracy: 0.9938\n",
      "Epoch 10/10\n",
      "58656/60000 [============================>.] - ETA: 0s - loss: 0.0162 - accuracy: 0.9949\n",
      "Reached 99% accuracy so cancelling training!\n",
      "60000/60000 [==============================] - 2s 29us/sample - loss: 0.0163 - accuracy: 0.9949\n"
     ]
    },
    {
     "data": {
      "text/plain": [
       "[0, 1, 2, 3, 4, 5, 6, 7, 8, 9]"
      ]
     },
     "execution_count": 15,
     "metadata": {},
     "output_type": "execute_result"
    }
   ],
   "source": [
    "train_mnist()"
   ]
  },
  {
   "cell_type": "code",
   "execution_count": null,
   "metadata": {},
   "outputs": [],
   "source": []
  }
 ],
 "metadata": {
  "kernelspec": {
   "display_name": "Python 3",
   "language": "python",
   "name": "python3"
  },
  "language_info": {
   "codemirror_mode": {
    "name": "ipython",
    "version": 3
   },
   "file_extension": ".py",
   "mimetype": "text/x-python",
   "name": "python",
   "nbconvert_exporter": "python",
   "pygments_lexer": "ipython3",
   "version": "3.7.4"
  }
 },
 "nbformat": 4,
 "nbformat_minor": 4
}
