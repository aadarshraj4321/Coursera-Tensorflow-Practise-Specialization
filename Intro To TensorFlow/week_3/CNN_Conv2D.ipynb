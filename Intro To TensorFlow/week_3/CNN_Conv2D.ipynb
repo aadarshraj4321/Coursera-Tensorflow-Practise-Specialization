{
 "cells": [
  {
   "cell_type": "code",
   "execution_count": 6,
   "metadata": {},
   "outputs": [],
   "source": [
    "import tensorflow as tf\n",
    "from tensorflow import keras"
   ]
  },
  {
   "cell_type": "code",
   "execution_count": 17,
   "metadata": {},
   "outputs": [],
   "source": [
    "# GRADED FUNCTION: train_mnist\n",
    "def train_mnist():\n",
    "    # Please write your code only where you are indicated.\n",
    "    # please do not remove # model fitting inline comments.\n",
    "\n",
    "    # YOUR CODE SHOULD START HERE\n",
    "    class myCallback(keras.callbacks.Callback):\n",
    "        def on_epoch_end(self,epoch,logs={}):\n",
    "            if(logs.get(\"loss\")<0.02):\n",
    "                print(\"\\nReached 99% accuracy so cancelling training!\")\n",
    "                self.model.stop_training = True\n",
    "    \n",
    "    callback = myCallback()\n",
    "\n",
    "    # YOUR CODE SHOULD END HERE\n",
    "\n",
    "    mnist = keras.datasets.fashion_mnist\n",
    "\n",
    "    (x_train, y_train),(x_test, y_test) = mnist.load_data()\n",
    "    # YOUR CODE SHOULD START HERE\n",
    "    x_train = x_train.reshape(60000,28,28,1)\n",
    "    x_train = x_train / 255.0\n",
    "    x_test = x_test.reshape(10000,28,28,1)\n",
    "    x_test = x_test / 255.0\n",
    "\n",
    "    # YOUR CODE SHOULD END HERE\n",
    "    model = tf.keras.models.Sequential([\n",
    "        # YOUR CODE SHOULD START HERE\n",
    "        keras.layers.Conv2D(64,(3,3),activation=\"relu\",input_shape=(28,28,1)),\n",
    "        keras.layers.MaxPooling2D(2,2),\n",
    "        keras.layers.Conv2D(64,(3,3),activation=\"relu\"),\n",
    "        keras.layers.MaxPooling2D(2,2),\n",
    "        keras.layers.Flatten(),\n",
    "        keras.layers.Dense(128,activation=\"relu\"),\n",
    "        keras.layers.Dense(10,activation=\"softmax\")\n",
    "        # YOUR CODE SHOULD END HERE\n",
    "    ])\n",
    "\n",
    "    model.compile(optimizer='adam',\n",
    "                  loss='sparse_categorical_crossentropy',\n",
    "                 metrics=[\"accuracy\"])\n",
    "    \n",
    "    # model fitting\n",
    "    #history = model.fit(x_train,y_train,epochs=10,callbacks=[callback])\n",
    "    # model fitting\n",
    "    #return history.epoch #history.history['acc'][-1]\n",
    "    model.summary()\n",
    "    model.fit(x_train,y_train,epochs=5)\n",
    "    test_loss = model.evaluate(x_test,y_test)"
   ]
  },
  {
   "cell_type": "code",
   "execution_count": 18,
   "metadata": {},
   "outputs": [
    {
     "name": "stdout",
     "output_type": "stream",
     "text": [
      "Model: \"sequential_6\"\n",
      "_________________________________________________________________\n",
      "Layer (type)                 Output Shape              Param #   \n",
      "=================================================================\n",
      "conv2d_12 (Conv2D)           (None, 26, 26, 64)        640       \n",
      "_________________________________________________________________\n",
      "max_pooling2d_12 (MaxPooling (None, 13, 13, 64)        0         \n",
      "_________________________________________________________________\n",
      "conv2d_13 (Conv2D)           (None, 11, 11, 64)        36928     \n",
      "_________________________________________________________________\n",
      "max_pooling2d_13 (MaxPooling (None, 5, 5, 64)          0         \n",
      "_________________________________________________________________\n",
      "flatten_6 (Flatten)          (None, 1600)              0         \n",
      "_________________________________________________________________\n",
      "dense_12 (Dense)             (None, 128)               204928    \n",
      "_________________________________________________________________\n",
      "dense_13 (Dense)             (None, 10)                1290      \n",
      "=================================================================\n",
      "Total params: 243,786\n",
      "Trainable params: 243,786\n",
      "Non-trainable params: 0\n",
      "_________________________________________________________________\n",
      "Train on 60000 samples\n",
      "Epoch 1/5\n",
      "60000/60000 [==============================] - 54s 906us/sample - loss: 0.4363 - accuracy: 0.8413\n",
      "Epoch 2/5\n",
      "60000/60000 [==============================] - 55s 910us/sample - loss: 0.2913 - accuracy: 0.8928\n",
      "Epoch 3/5\n",
      "60000/60000 [==============================] - 55s 911us/sample - loss: 0.2454 - accuracy: 0.9094\n",
      "Epoch 4/5\n",
      "60000/60000 [==============================] - 58s 959us/sample - loss: 0.2137 - accuracy: 0.9204\n",
      "Epoch 5/5\n",
      "60000/60000 [==============================] - 58s 965us/sample - loss: 0.1882 - accuracy: 0.9297\n",
      "10000/10000 [==============================] - 2s 208us/sample - loss: 0.2625 - accuracy: 0.9020\n"
     ]
    }
   ],
   "source": [
    "train_mnist()"
   ]
  },
  {
   "cell_type": "code",
   "execution_count": null,
   "metadata": {},
   "outputs": [],
   "source": []
  }
 ],
 "metadata": {
  "kernelspec": {
   "display_name": "Python 3",
   "language": "python",
   "name": "python3"
  },
  "language_info": {
   "codemirror_mode": {
    "name": "ipython",
    "version": 3
   },
   "file_extension": ".py",
   "mimetype": "text/x-python",
   "name": "python",
   "nbconvert_exporter": "python",
   "pygments_lexer": "ipython3",
   "version": "3.7.4"
  }
 },
 "nbformat": 4,
 "nbformat_minor": 4
}
